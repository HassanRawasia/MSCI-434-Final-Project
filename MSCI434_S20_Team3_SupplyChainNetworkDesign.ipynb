{
 "cells": [
  {
   "cell_type": "markdown",
   "metadata": {},
   "source": [
    "# MSCI 434 Term Project"
   ]
  },
  {
   "cell_type": "markdown",
   "metadata": {},
   "source": [
    "## 1. Import Packages and Licenses"
   ]
  },
  {
   "cell_type": "code",
   "execution_count": 1,
   "metadata": {},
   "outputs": [
    {
     "name": "stdout",
     "output_type": "stream",
     "text": [
      "Defaulting to user installation because normal site-packages is not writeable\n",
      "Requirement already satisfied: gurobipy in /Users/sarankan/Library/Python/3.9/lib/python/site-packages (10.0.2)\n",
      "Note: you may need to restart the kernel to use updated packages.\n"
     ]
    }
   ],
   "source": [
    "%pip install gurobipy\n",
    "import gurobipy as gp\n",
    "from gurobipy import GRB as GRB"
   ]
  },
  {
   "cell_type": "code",
   "execution_count": 2,
   "metadata": {},
   "outputs": [
    {
     "name": "stdout",
     "output_type": "stream",
     "text": [
      "Set parameter WLSAccessID\n",
      "Set parameter WLSSecret\n",
      "Set parameter LicenseID to value 2397655\n"
     ]
    },
    {
     "ename": "GurobiError",
     "evalue": "Unauthorized access",
     "output_type": "error",
     "traceback": [
      "\u001b[0;31m---------------------------------------------------------------------------\u001b[0m",
      "\u001b[0;31mGurobiError\u001b[0m                               Traceback (most recent call last)",
      "Cell \u001b[0;32mIn[2], line 5\u001b[0m\n\u001b[1;32m      3\u001b[0m e\u001b[39m.\u001b[39msetParam(\u001b[39m'\u001b[39m\u001b[39mWLSSECRET\u001b[39m\u001b[39m'\u001b[39m, \u001b[39m'\u001b[39m\u001b[39m8af544aa-7014-4a6d-8e19-ddef9cdcda34\u001b[39m\u001b[39m'\u001b[39m)\n\u001b[1;32m      4\u001b[0m e\u001b[39m.\u001b[39msetParam(\u001b[39m'\u001b[39m\u001b[39mLICENSEID\u001b[39m\u001b[39m'\u001b[39m, \u001b[39m2397655\u001b[39m)\n\u001b[0;32m----> 5\u001b[0m e\u001b[39m.\u001b[39;49mstart()\n\u001b[1;32m      7\u001b[0m model \u001b[39m=\u001b[39m gp\u001b[39m.\u001b[39mModel(env \u001b[39m=\u001b[39m e)\n",
      "File \u001b[0;32msrc/gurobipy/env.pxi:459\u001b[0m, in \u001b[0;36mgurobipy.Env.start\u001b[0;34m()\u001b[0m\n",
      "\u001b[0;31mGurobiError\u001b[0m: Unauthorized access"
     ]
    }
   ],
   "source": [
    "e = gp.Env(empty = True)\n",
    "e.setParam('WLSACCESSID', 'a1afce0b-a3ec-4cb8-bd34-adb6cf4ca7b4')\n",
    "e.setParam('WLSSECRET', '8af544aa-7014-4a6d-8e19-ddef9cdcda34')\n",
    "e.setParam('LICENSEID', 2397655)\n",
    "e.start()\n",
    "\n",
    "model = gp.Model(env = e)"
   ]
  }
 ],
 "metadata": {
  "kernelspec": {
   "display_name": "Python 3",
   "language": "python",
   "name": "python3"
  },
  "language_info": {
   "codemirror_mode": {
    "name": "ipython",
    "version": 3
   },
   "file_extension": ".py",
   "mimetype": "text/x-python",
   "name": "python",
   "nbconvert_exporter": "python",
   "pygments_lexer": "ipython3",
   "version": "3.9.6"
  },
  "orig_nbformat": 4
 },
 "nbformat": 4,
 "nbformat_minor": 2
}
